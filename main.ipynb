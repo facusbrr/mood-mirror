{
 "cells": [
  {
   "cell_type": "markdown",
   "id": "9d09ee24",
   "metadata": {},
   "source": [
    "# Mood Mirror\n",
    "\n",
    "Una aplicación en Python que permite al usuario ingresar un texto libre, como una entrada de diario, y ofrece:\n",
    "\n",
    "- La emoción principal (por ejemplo, alegría, tristeza, enojo, miedo, sorpresa).\n",
    "- Un mensaje personalizado según la emoción detectada.\n",
    "- Un gráfico que muestra cómo varían tus emociones a lo largo del tiempo.\n"
   ]
  },
  {
   "cell_type": "markdown",
   "id": "2faf074c",
   "metadata": {},
   "source": [
    "---"
   ]
  },
  {
   "cell_type": "markdown",
   "id": "85308c6e",
   "metadata": {},
   "source": [
    "### Importaciones"
   ]
  },
  {
   "cell_type": "code",
   "execution_count": 2,
   "id": "435dffa8",
   "metadata": {},
   "outputs": [],
   "source": [
    "import pandas as pd"
   ]
  },
  {
   "cell_type": "markdown",
   "id": "37a4613a",
   "metadata": {},
   "source": [
    "### Contamos las filas\n",
    "Hacemos esto para saber los datos y para poder cumplir con la consigna"
   ]
  },
  {
   "cell_type": "code",
   "execution_count": null,
   "id": "3671d726",
   "metadata": {},
   "outputs": [
    {
     "name": "stdout",
     "output_type": "stream",
     "text": [
      "--- TRAIN ---\n",
      "Total ejemplos: 16000\n",
      "Series([], Name: count, dtype: int64) \n",
      "\n",
      "--- VAL ---\n",
      "Total ejemplos: 2000\n",
      "Series([], Name: count, dtype: int64) \n",
      "\n",
      "--- TEST ---\n",
      "Total ejemplos: 2000\n",
      "Series([], Name: count, dtype: int64) \n",
      "\n"
     ]
    }
   ],
   "source": [
    "for split in [\"train\", \"val\", \"test\"]:\n",
    "    path = f\"{split}.txt\"\n",
    "    df_split = pd.read_csv(\n",
    "        path,\n",
    "        sep=\"\\t\",\n",
    "        header=None,\n",
    "        names=[\"text\", \"emotion\"]\n",
    "    )\n",
    "    print(f\"--- {split.upper()} ---\")\n",
    "    print(\"Total ejemplos:\", len(df_split))\n",
    "    print(df_split[\"emotion\"].value_counts(), \"\\n\")"
   ]
  }
 ],
 "metadata": {
  "kernelspec": {
   "display_name": "venv",
   "language": "python",
   "name": "python3"
  },
  "language_info": {
   "codemirror_mode": {
    "name": "ipython",
    "version": 3
   },
   "file_extension": ".py",
   "mimetype": "text/x-python",
   "name": "python",
   "nbconvert_exporter": "python",
   "pygments_lexer": "ipython3",
   "version": "3.10.11"
  }
 },
 "nbformat": 4,
 "nbformat_minor": 5
}
